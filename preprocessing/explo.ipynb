{
 "cells": [
  {
   "cell_type": "code",
   "execution_count": 1,
   "id": "a01c61ee",
   "metadata": {},
   "outputs": [],
   "source": [
    "import json"
   ]
  },
  {
   "cell_type": "code",
   "execution_count": null,
   "id": "da99cbd6",
   "metadata": {},
   "outputs": [],
   "source": [
    "with open(\"../datasets/coco128/annotations/instances_train2017.json\", \"r\") as f:\n",
    "    data = json.load(f)"
   ]
  },
  {
   "cell_type": "code",
   "execution_count": 5,
   "id": "89a8b4bd",
   "metadata": {},
   "outputs": [
    {
     "data": {
      "text/plain": [
       "dict_keys(['info', 'images', 'licenses', 'type', 'annotations', 'categories'])"
      ]
     },
     "execution_count": 5,
     "metadata": {},
     "output_type": "execute_result"
    }
   ],
   "source": [
    "data.keys()"
   ]
  },
  {
   "cell_type": "code",
   "execution_count": 9,
   "id": "9a733608",
   "metadata": {},
   "outputs": [
    {
     "data": {
      "text/plain": [
       "{'year': 2021,\n",
       " 'version': '1.0',\n",
       " 'description': 'For object detection',\n",
       " 'date_created': '2021'}"
      ]
     },
     "execution_count": 9,
     "metadata": {},
     "output_type": "execute_result"
    }
   ],
   "source": [
    "data[\"info\"]"
   ]
  },
  {
   "cell_type": "code",
   "execution_count": 11,
   "id": "7756fab9",
   "metadata": {},
   "outputs": [
    {
     "data": {
      "text/plain": [
       "{'date_captured': '2021',\n",
       " 'file_name': '000000000001.jpg',\n",
       " 'id': 1,\n",
       " 'height': 478,\n",
       " 'width': 640}"
      ]
     },
     "execution_count": 11,
     "metadata": {},
     "output_type": "execute_result"
    }
   ],
   "source": [
    "data[\"images\"][0]"
   ]
  },
  {
   "cell_type": "code",
   "execution_count": 7,
   "id": "a56f01ed",
   "metadata": {},
   "outputs": [
    {
     "data": {
      "text/plain": [
       "{'segmentation': [[214.14976,\n",
       "   41.29011799999999,\n",
       "   562.4096,\n",
       "   41.29011799999999,\n",
       "   562.4096,\n",
       "   285.070118,\n",
       "   214.14976,\n",
       "   285.070118]],\n",
       " 'area': 84898.7837952,\n",
       " 'iscrowd': 0,\n",
       " 'image_id': 1,\n",
       " 'bbox': [214.14976, 41.29011799999999, 348.25984, 243.78],\n",
       " 'category_id': 70,\n",
       " 'id': 1}"
      ]
     },
     "execution_count": 7,
     "metadata": {},
     "output_type": "execute_result"
    }
   ],
   "source": [
    "data[\"annotations\"][0]"
   ]
  },
  {
   "cell_type": "code",
   "execution_count": 12,
   "id": "ab7423ca",
   "metadata": {},
   "outputs": [
    {
     "data": {
      "text/plain": [
       "{'id': 1, 'name': '0', 'supercategory': '0'}"
      ]
     },
     "execution_count": 12,
     "metadata": {},
     "output_type": "execute_result"
    }
   ],
   "source": [
    "data[\"categories\"][0]"
   ]
  },
  {
   "cell_type": "code",
   "execution_count": 13,
   "id": "07e81b04",
   "metadata": {},
   "outputs": [
    {
     "data": {
      "text/plain": [
       "'instances'"
      ]
     },
     "execution_count": 13,
     "metadata": {},
     "output_type": "execute_result"
    }
   ],
   "source": [
    "data[\"type\"]"
   ]
  }
 ],
 "metadata": {
  "kernelspec": {
   "display_name": ".venv",
   "language": "python",
   "name": "python3"
  },
  "language_info": {
   "codemirror_mode": {
    "name": "ipython",
    "version": 3
   },
   "file_extension": ".py",
   "mimetype": "text/x-python",
   "name": "python",
   "nbconvert_exporter": "python",
   "pygments_lexer": "ipython3",
   "version": "3.13.5"
  }
 },
 "nbformat": 4,
 "nbformat_minor": 5
}
